{
 "cells": [
  {
   "cell_type": "code",
   "execution_count": 5,
   "id": "1624d5d2-e060-4360-a419-7dc508495d61",
   "metadata": {},
   "outputs": [
    {
     "name": "stdin",
     "output_type": "stream",
     "text": [
      "Masukkan angka pertama:  5.4\n",
      "Masukkan angka kedua:  4.5\n"
     ]
    },
    {
     "name": "stdout",
     "output_type": "stream",
     "text": [
      "Rata-rata dari dua angka tersebut adalah: 4.95\n"
     ]
    }
   ],
   "source": [
    "def hitung(angka1, angka2):\n",
    "    rata_rata = (angka1 + angka2) / 2\n",
    "    return rata_rata\n",
    "\n",
    "angka1 = float(input(\"Masukkan angka pertama: \"))\n",
    "angka2 = float(input(\"Masukkan angka kedua: \"))\n",
    "\n",
    "jumlah = hitung(angka1, angka2)\n",
    "print(\"Rata-rata dari dua angka tersebut adalah:\", jumlah)"
   ]
  },
  {
   "cell_type": "code",
   "execution_count": 9,
   "id": "1f930dc3-acdf-423e-a1ea-16aa12515f34",
   "metadata": {},
   "outputs": [
    {
     "name": "stdin",
     "output_type": "stream",
     "text": [
      "bulan (1-12):  1\n"
     ]
    },
    {
     "name": "stdout",
     "output_type": "stream",
     "text": [
      "31 hari dalam bulan tersebut\n"
     ]
    },
    {
     "name": "stdin",
     "output_type": "stream",
     "text": [
      "bulan (1-12):  2\n",
      "tahun:  2024\n"
     ]
    },
    {
     "name": "stdout",
     "output_type": "stream",
     "text": [
      "29 hari dalam bulan tersebut\n"
     ]
    },
    {
     "name": "stdin",
     "output_type": "stream",
     "text": [
      "bulan (1-12):  3\n"
     ]
    },
    {
     "name": "stdout",
     "output_type": "stream",
     "text": [
      "31 hari dalam bulan tersebut\n"
     ]
    },
    {
     "name": "stdin",
     "output_type": "stream",
     "text": [
      "bulan (1-12):  4\n"
     ]
    },
    {
     "name": "stdout",
     "output_type": "stream",
     "text": [
      "30 hari dalam bulan tersebut\n"
     ]
    },
    {
     "name": "stdin",
     "output_type": "stream",
     "text": [
      "bulan (1-12):  0\n"
     ]
    },
    {
     "name": "stdout",
     "output_type": "stream",
     "text": [
      "bye bye :3\n"
     ]
    }
   ],
   "source": [
    "def is_kabisat(tahun):\n",
    "    \"\"\"Fungsi untuk menentukan apakah tahun kabisat.\"\"\"\n",
    "    return (tahun % 4 == 0 and tahun % 100 != 0) or (tahun % 400 == 0)\n",
    "\n",
    "def jumlah_hari(bulan, tahun):\n",
    "    \"\"\"Fungsi untuk menentukan jumlah hari dalam suatu bulan.\"\"\"\n",
    "    if bulan in [1, 3, 5, 7, 8, 10, 12]:\n",
    "        return 31\n",
    "    elif bulan in [4, 6, 9, 11]:\n",
    "        return 30\n",
    "    elif bulan == 2:\n",
    "        if is_kabisat(tahun):\n",
    "            return 29\n",
    "        else:\n",
    "            return 28\n",
    "    else:\n",
    "        return None  # Bulan tidak valid\n",
    "\n",
    "def main():\n",
    "    while True:\n",
    "        bulan = int(input(\"bulan (1-12): \"))\n",
    "        if bulan == 0:\n",
    "            print(\"bye bye :3\")\n",
    "            break\n",
    "        if bulan < 1 or bulan > 12:\n",
    "            print(\"Bulan tidak valid. Silakan masukkan bulan antara 1-12.\")\n",
    "            continue\n",
    "        \n",
    "        if bulan == 2:\n",
    "            tahun = int(input(\"tahun: \"))\n",
    "        \n",
    "        hari = jumlah_hari(bulan, tahun) if bulan == 2 else jumlah_hari(bulan, None)\n",
    "        \n",
    "        if hari is not None:\n",
    "            print(f\"{hari} hari dalam bulan tersebut\")\n",
    "\n",
    "if __name__ == \"__main__\":\n",
    "    main()"
   ]
  },
  {
   "cell_type": "code",
   "execution_count": null,
   "id": "3ce0dbe1-3189-48d4-a0c7-772943e84dd5",
   "metadata": {},
   "outputs": [],
   "source": []
  }
 ],
 "metadata": {
  "kernelspec": {
   "display_name": "Python 3 (ipykernel)",
   "language": "python",
   "name": "python3"
  },
  "language_info": {
   "codemirror_mode": {
    "name": "ipython",
    "version": 3
   },
   "file_extension": ".py",
   "mimetype": "text/x-python",
   "name": "python",
   "nbconvert_exporter": "python",
   "pygments_lexer": "ipython3",
   "version": "3.12.4"
  }
 },
 "nbformat": 4,
 "nbformat_minor": 5
}
